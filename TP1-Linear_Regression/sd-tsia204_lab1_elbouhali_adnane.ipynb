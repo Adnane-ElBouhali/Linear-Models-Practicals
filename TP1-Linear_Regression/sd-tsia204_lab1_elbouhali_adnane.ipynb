{
 "cells": [
  {
   "cell_type": "markdown",
   "metadata": {},
   "source": [
    "# TP1 Linear Regression - Analysis of investment data"
   ]
  },
  {
   "cell_type": "markdown",
   "metadata": {},
   "source": [
    "## Imports"
   ]
  },
  {
   "cell_type": "code",
   "execution_count": 4,
   "metadata": {},
   "outputs": [],
   "source": [
    "import pandas as pd\n",
    "import matplotlib.pyplot as plt\n",
    "import numpy as np\n",
    "\n",
    "%matplotlib inline"
   ]
  },
  {
   "cell_type": "markdown",
   "metadata": {},
   "source": [
    "## Loading the data"
   ]
  },
  {
   "cell_type": "code",
   "execution_count": 5,
   "metadata": {},
   "outputs": [
    {
     "data": {
      "text/html": [
       "<div>\n",
       "<style scoped>\n",
       "    .dataframe tbody tr th:only-of-type {\n",
       "        vertical-align: middle;\n",
       "    }\n",
       "\n",
       "    .dataframe tbody tr th {\n",
       "        vertical-align: top;\n",
       "    }\n",
       "\n",
       "    .dataframe thead th {\n",
       "        text-align: right;\n",
       "    }\n",
       "</style>\n",
       "<table border=\"1\" class=\"dataframe\">\n",
       "  <thead>\n",
       "    <tr style=\"text-align: right;\">\n",
       "      <th></th>\n",
       "      <th>year</th>\n",
       "      <th>gnp</th>\n",
       "      <th>invest</th>\n",
       "      <th>cpi</th>\n",
       "      <th>interest</th>\n",
       "    </tr>\n",
       "  </thead>\n",
       "  <tbody>\n",
       "    <tr>\n",
       "      <th>0</th>\n",
       "      <td>1968</td>\n",
       "      <td>873.4</td>\n",
       "      <td>133.3</td>\n",
       "      <td>82.54</td>\n",
       "      <td>5.16</td>\n",
       "    </tr>\n",
       "    <tr>\n",
       "      <th>1</th>\n",
       "      <td>1969</td>\n",
       "      <td>944.0</td>\n",
       "      <td>149.3</td>\n",
       "      <td>86.79</td>\n",
       "      <td>5.87</td>\n",
       "    </tr>\n",
       "    <tr>\n",
       "      <th>2</th>\n",
       "      <td>1970</td>\n",
       "      <td>992.7</td>\n",
       "      <td>144.2</td>\n",
       "      <td>91.45</td>\n",
       "      <td>5.95</td>\n",
       "    </tr>\n",
       "    <tr>\n",
       "      <th>3</th>\n",
       "      <td>1971</td>\n",
       "      <td>1077.6</td>\n",
       "      <td>166.4</td>\n",
       "      <td>96.01</td>\n",
       "      <td>4.88</td>\n",
       "    </tr>\n",
       "    <tr>\n",
       "      <th>4</th>\n",
       "      <td>1972</td>\n",
       "      <td>1185.9</td>\n",
       "      <td>195.0</td>\n",
       "      <td>100.00</td>\n",
       "      <td>4.50</td>\n",
       "    </tr>\n",
       "    <tr>\n",
       "      <th>5</th>\n",
       "      <td>1973</td>\n",
       "      <td>1326.4</td>\n",
       "      <td>229.8</td>\n",
       "      <td>105.75</td>\n",
       "      <td>6.44</td>\n",
       "    </tr>\n",
       "    <tr>\n",
       "      <th>6</th>\n",
       "      <td>1974</td>\n",
       "      <td>1434.2</td>\n",
       "      <td>228.7</td>\n",
       "      <td>115.08</td>\n",
       "      <td>7.83</td>\n",
       "    </tr>\n",
       "    <tr>\n",
       "      <th>7</th>\n",
       "      <td>1975</td>\n",
       "      <td>1549.2</td>\n",
       "      <td>206.1</td>\n",
       "      <td>125.79</td>\n",
       "      <td>6.25</td>\n",
       "    </tr>\n",
       "    <tr>\n",
       "      <th>8</th>\n",
       "      <td>1976</td>\n",
       "      <td>1718.0</td>\n",
       "      <td>257.9</td>\n",
       "      <td>132.34</td>\n",
       "      <td>5.50</td>\n",
       "    </tr>\n",
       "    <tr>\n",
       "      <th>9</th>\n",
       "      <td>1977</td>\n",
       "      <td>1918.3</td>\n",
       "      <td>324.1</td>\n",
       "      <td>140.05</td>\n",
       "      <td>5.46</td>\n",
       "    </tr>\n",
       "    <tr>\n",
       "      <th>10</th>\n",
       "      <td>1978</td>\n",
       "      <td>2163.9</td>\n",
       "      <td>386.6</td>\n",
       "      <td>150.42</td>\n",
       "      <td>7.46</td>\n",
       "    </tr>\n",
       "    <tr>\n",
       "      <th>11</th>\n",
       "      <td>1979</td>\n",
       "      <td>2417.8</td>\n",
       "      <td>423.0</td>\n",
       "      <td>163.42</td>\n",
       "      <td>10.28</td>\n",
       "    </tr>\n",
       "    <tr>\n",
       "      <th>12</th>\n",
       "      <td>1980</td>\n",
       "      <td>2633.1</td>\n",
       "      <td>402.3</td>\n",
       "      <td>178.64</td>\n",
       "      <td>11.77</td>\n",
       "    </tr>\n",
       "    <tr>\n",
       "      <th>13</th>\n",
       "      <td>1981</td>\n",
       "      <td>2937.7</td>\n",
       "      <td>471.5</td>\n",
       "      <td>195.51</td>\n",
       "      <td>13.42</td>\n",
       "    </tr>\n",
       "    <tr>\n",
       "      <th>14</th>\n",
       "      <td>1982</td>\n",
       "      <td>3057.5</td>\n",
       "      <td>421.9</td>\n",
       "      <td>207.23</td>\n",
       "      <td>11.02</td>\n",
       "    </tr>\n",
       "  </tbody>\n",
       "</table>\n",
       "</div>"
      ],
      "text/plain": [
       "    year     gnp  invest     cpi  interest\n",
       "0   1968   873.4   133.3   82.54      5.16\n",
       "1   1969   944.0   149.3   86.79      5.87\n",
       "2   1970   992.7   144.2   91.45      5.95\n",
       "3   1971  1077.6   166.4   96.01      4.88\n",
       "4   1972  1185.9   195.0  100.00      4.50\n",
       "5   1973  1326.4   229.8  105.75      6.44\n",
       "6   1974  1434.2   228.7  115.08      7.83\n",
       "7   1975  1549.2   206.1  125.79      6.25\n",
       "8   1976  1718.0   257.9  132.34      5.50\n",
       "9   1977  1918.3   324.1  140.05      5.46\n",
       "10  1978  2163.9   386.6  150.42      7.46\n",
       "11  1979  2417.8   423.0  163.42     10.28\n",
       "12  1980  2633.1   402.3  178.64     11.77\n",
       "13  1981  2937.7   471.5  195.51     13.42\n",
       "14  1982  3057.5   421.9  207.23     11.02"
      ]
     },
     "execution_count": 5,
     "metadata": {},
     "output_type": "execute_result"
    }
   ],
   "source": [
    "df = pd.read_csv(\"invest.txt\", sep=' ')\n",
    "df"
   ]
  },
  {
   "cell_type": "code",
   "execution_count": 6,
   "metadata": {
    "scrolled": false
   },
   "outputs": [
    {
     "data": {
      "text/plain": [
       "year          int64\n",
       "gnp         float64\n",
       "invest      float64\n",
       "cpi         float64\n",
       "interest    float64\n",
       "dtype: object"
      ]
     },
     "execution_count": 6,
     "metadata": {},
     "output_type": "execute_result"
    }
   ],
   "source": [
    "df.dtypes"
   ]
  },
  {
   "cell_type": "markdown",
   "metadata": {},
   "source": [
    "## Plot"
   ]
  },
  {
   "cell_type": "code",
   "execution_count": 7,
   "metadata": {
    "scrolled": true
   },
   "outputs": [
    {
     "data": {
      "image/png": "[encoded data removed]",
      "text/plain": [
       "<Figure size 640x480 with 1 Axes>"
      ]
     },
     "metadata": {},
     "output_type": "display_data"
    }
   ],
   "source": [
    "plt.plot(df['gnp'], df['invest'])\n",
    "plt.xlabel('gnp')\n",
    "plt.ylabel('invest')\n",
    "plt.show()"
   ]
  },
  {
   "cell_type": "markdown",
   "metadata": {},
   "source": [
    "## Logarithm Transform"
   ]
  },
  {
   "cell_type": "code",
   "execution_count": 8,
   "metadata": {
    "scrolled": false
   },
   "outputs": [
    {
     "data": {
      "text/html": [
       "<div>\n",
       "<style scoped>\n",
       "    .dataframe tbody tr th:only-of-type {\n",
       "        vertical-align: middle;\n",
       "    }\n",
       "\n",
       "    .dataframe tbody tr th {\n",
       "        vertical-align: top;\n",
       "    }\n",
       "\n",
       "    .dataframe thead th {\n",
       "        text-align: right;\n",
       "    }\n",
       "</style>\n",
       "<table border=\"1\" class=\"dataframe\">\n",
       "  <thead>\n",
       "    <tr style=\"text-align: right;\">\n",
       "      <th></th>\n",
       "      <th>year</th>\n",
       "      <th>gnp</th>\n",
       "      <th>invest</th>\n",
       "      <th>cpi</th>\n",
       "      <th>interest</th>\n",
       "      <th>gnp_log</th>\n",
       "      <th>invest_log</th>\n",
       "    </tr>\n",
       "  </thead>\n",
       "  <tbody>\n",
       "    <tr>\n",
       "      <th>0</th>\n",
       "      <td>1968</td>\n",
       "      <td>873.4</td>\n",
       "      <td>133.3</td>\n",
       "      <td>82.54</td>\n",
       "      <td>5.16</td>\n",
       "      <td>6.772394</td>\n",
       "      <td>4.892602</td>\n",
       "    </tr>\n",
       "    <tr>\n",
       "      <th>1</th>\n",
       "      <td>1969</td>\n",
       "      <td>944.0</td>\n",
       "      <td>149.3</td>\n",
       "      <td>86.79</td>\n",
       "      <td>5.87</td>\n",
       "      <td>6.850126</td>\n",
       "      <td>5.005958</td>\n",
       "    </tr>\n",
       "    <tr>\n",
       "      <th>2</th>\n",
       "      <td>1970</td>\n",
       "      <td>992.7</td>\n",
       "      <td>144.2</td>\n",
       "      <td>91.45</td>\n",
       "      <td>5.95</td>\n",
       "      <td>6.900429</td>\n",
       "      <td>4.971201</td>\n",
       "    </tr>\n",
       "    <tr>\n",
       "      <th>3</th>\n",
       "      <td>1971</td>\n",
       "      <td>1077.6</td>\n",
       "      <td>166.4</td>\n",
       "      <td>96.01</td>\n",
       "      <td>4.88</td>\n",
       "      <td>6.982492</td>\n",
       "      <td>5.114395</td>\n",
       "    </tr>\n",
       "    <tr>\n",
       "      <th>4</th>\n",
       "      <td>1972</td>\n",
       "      <td>1185.9</td>\n",
       "      <td>195.0</td>\n",
       "      <td>100.00</td>\n",
       "      <td>4.50</td>\n",
       "      <td>7.078257</td>\n",
       "      <td>5.273000</td>\n",
       "    </tr>\n",
       "    <tr>\n",
       "      <th>5</th>\n",
       "      <td>1973</td>\n",
       "      <td>1326.4</td>\n",
       "      <td>229.8</td>\n",
       "      <td>105.75</td>\n",
       "      <td>6.44</td>\n",
       "      <td>7.190224</td>\n",
       "      <td>5.437209</td>\n",
       "    </tr>\n",
       "    <tr>\n",
       "      <th>6</th>\n",
       "      <td>1974</td>\n",
       "      <td>1434.2</td>\n",
       "      <td>228.7</td>\n",
       "      <td>115.08</td>\n",
       "      <td>7.83</td>\n",
       "      <td>7.268362</td>\n",
       "      <td>5.432411</td>\n",
       "    </tr>\n",
       "    <tr>\n",
       "      <th>7</th>\n",
       "      <td>1975</td>\n",
       "      <td>1549.2</td>\n",
       "      <td>206.1</td>\n",
       "      <td>125.79</td>\n",
       "      <td>6.25</td>\n",
       "      <td>7.345494</td>\n",
       "      <td>5.328361</td>\n",
       "    </tr>\n",
       "    <tr>\n",
       "      <th>8</th>\n",
       "      <td>1976</td>\n",
       "      <td>1718.0</td>\n",
       "      <td>257.9</td>\n",
       "      <td>132.34</td>\n",
       "      <td>5.50</td>\n",
       "      <td>7.448916</td>\n",
       "      <td>5.552572</td>\n",
       "    </tr>\n",
       "    <tr>\n",
       "      <th>9</th>\n",
       "      <td>1977</td>\n",
       "      <td>1918.3</td>\n",
       "      <td>324.1</td>\n",
       "      <td>140.05</td>\n",
       "      <td>5.46</td>\n",
       "      <td>7.559195</td>\n",
       "      <td>5.781052</td>\n",
       "    </tr>\n",
       "    <tr>\n",
       "      <th>10</th>\n",
       "      <td>1978</td>\n",
       "      <td>2163.9</td>\n",
       "      <td>386.6</td>\n",
       "      <td>150.42</td>\n",
       "      <td>7.46</td>\n",
       "      <td>7.679667</td>\n",
       "      <td>5.957391</td>\n",
       "    </tr>\n",
       "    <tr>\n",
       "      <th>11</th>\n",
       "      <td>1979</td>\n",
       "      <td>2417.8</td>\n",
       "      <td>423.0</td>\n",
       "      <td>163.42</td>\n",
       "      <td>10.28</td>\n",
       "      <td>7.790613</td>\n",
       "      <td>6.047372</td>\n",
       "    </tr>\n",
       "    <tr>\n",
       "      <th>12</th>\n",
       "      <td>1980</td>\n",
       "      <td>2633.1</td>\n",
       "      <td>402.3</td>\n",
       "      <td>178.64</td>\n",
       "      <td>11.77</td>\n",
       "      <td>7.875917</td>\n",
       "      <td>5.997198</td>\n",
       "    </tr>\n",
       "    <tr>\n",
       "      <th>13</th>\n",
       "      <td>1981</td>\n",
       "      <td>2937.7</td>\n",
       "      <td>471.5</td>\n",
       "      <td>195.51</td>\n",
       "      <td>13.42</td>\n",
       "      <td>7.985382</td>\n",
       "      <td>6.155919</td>\n",
       "    </tr>\n",
       "    <tr>\n",
       "      <th>14</th>\n",
       "      <td>1982</td>\n",
       "      <td>3057.5</td>\n",
       "      <td>421.9</td>\n",
       "      <td>207.23</td>\n",
       "      <td>11.02</td>\n",
       "      <td>8.025353</td>\n",
       "      <td>6.044768</td>\n",
       "    </tr>\n",
       "  </tbody>\n",
       "</table>\n",
       "</div>"
      ],
      "text/plain": [
       "    year     gnp  invest     cpi  interest   gnp_log  invest_log\n",
       "0   1968   873.4   133.3   82.54      5.16  6.772394    4.892602\n",
       "1   1969   944.0   149.3   86.79      5.87  6.850126    5.005958\n",
       "2   1970   992.7   144.2   91.45      5.95  6.900429    4.971201\n",
       "3   1971  1077.6   166.4   96.01      4.88  6.982492    5.114395\n",
       "4   1972  1185.9   195.0  100.00      4.50  7.078257    5.273000\n",
       "5   1973  1326.4   229.8  105.75      6.44  7.190224    5.437209\n",
       "6   1974  1434.2   228.7  115.08      7.83  7.268362    5.432411\n",
       "7   1975  1549.2   206.1  125.79      6.25  7.345494    5.328361\n",
       "8   1976  1718.0   257.9  132.34      5.50  7.448916    5.552572\n",
       "9   1977  1918.3   324.1  140.05      5.46  7.559195    5.781052\n",
       "10  1978  2163.9   386.6  150.42      7.46  7.679667    5.957391\n",
       "11  1979  2417.8   423.0  163.42     10.28  7.790613    6.047372\n",
       "12  1980  2633.1   402.3  178.64     11.77  7.875917    5.997198\n",
       "13  1981  2937.7   471.5  195.51     13.42  7.985382    6.155919\n",
       "14  1982  3057.5   421.9  207.23     11.02  8.025353    6.044768"
      ]
     },
     "execution_count": 8,
     "metadata": {},
     "output_type": "execute_result"
    }
   ],
   "source": [
    "df['gnp_log'] = np.log(df['gnp'])\n",
    "df['invest_log'] = np.log(df['invest'])\n",
    "df"
   ]
  },
  {
   "cell_type": "markdown",
   "metadata": {},
   "source": [
    "## Intercept, slope and standard deviation estimation"
   ]
  },
  {
   "cell_type": "code",
   "execution_count": 9,
   "metadata": {},
   "outputs": [],
   "source": [
    "x = df['gnp_log']\n",
    "y = df['invest_log']"
   ]
  },
  {
   "cell_type": "code",
   "execution_count": 10,
   "metadata": {},
   "outputs": [],
   "source": [
    "n = y.size\n",
    "p = 1"
   ]
  },
  {
   "cell_type": "code",
   "execution_count": 11,
   "metadata": {},
   "outputs": [],
   "source": [
    "beta_1_estim = sum((x-x.mean())*(y-y.mean()))/sum((x-x.mean())*(x-x.mean()))"
   ]
  },
  {
   "cell_type": "code",
   "execution_count": 12,
   "metadata": {},
   "outputs": [],
   "source": [
    "beta_0_estim = y.mean()-beta_1_estim*x.mean()"
   ]
  },
  {
   "cell_type": "code",
   "execution_count": 13,
   "metadata": {},
   "outputs": [],
   "source": [
    "omega_carre_estim = sum((y-(beta_0_estim+beta_1_estim*x))\n",
    "                        * (y-(beta_0_estim+beta_1_estim*x)))/(y.size-2)\n",
    "omega_estim = np.sqrt(omega_carre_estim)"
   ]
  },
  {
   "cell_type": "code",
   "execution_count": 14,
   "metadata": {},
   "outputs": [],
   "source": [
    "var_beta_0_estim = omega_carre_estim * \\\n",
    "    (1/y.size+x.mean()**2/sum((x-x.mean())**2))\n",
    "var_beta_1_estim = omega_carre_estim/sum((x-x.mean())**2)"
   ]
  },
  {
   "cell_type": "code",
   "execution_count": 15,
   "metadata": {},
   "outputs": [
    {
     "name": "stdout",
     "output_type": "stream",
     "text": [
      "0.9627572956057855\n"
     ]
    }
   ],
   "source": [
    "R = np.sqrt(sum((beta_0_estim+beta_1_estim*x-y.mean())**2) /\n",
    "            sum((y-y.mean())**2))\n",
    "print(R**2)"
   ]
  },
  {
   "cell_type": "code",
   "execution_count": 16,
   "metadata": {},
   "outputs": [
    {
     "name": "stdout",
     "output_type": "stream",
     "text": [
      "beta_0_estim:  -1.9635913352301815 \n",
      "beta_1_estim:  1.015281401598871 \n",
      "sd_beta_0_estim:  0.4095472716623081 \n",
      "sd_beta_1_estim:  0.05538306035485281 \n",
      "Determination coefficient:  0.9627572956057855\n"
     ]
    }
   ],
   "source": [
    "print(\"beta_0_estim: \", beta_0_estim,\n",
    "      \"\\nbeta_1_estim: \", beta_1_estim,\n",
    "      \"\\nsd_beta_0_estim: \", np.sqrt(var_beta_0_estim),\n",
    "      \"\\nsd_beta_1_estim: \", np.sqrt(var_beta_1_estim),\n",
    "      \"\\nDetermination coefficient: \", R**2)"
   ]
  },
  {
   "cell_type": "markdown",
   "metadata": {},
   "source": [
    "## Testing the significance of the slope using the Student-t test"
   ]
  },
  {
   "cell_type": "code",
   "execution_count": 17,
   "metadata": {},
   "outputs": [
    {
     "data": {
      "text/plain": [
       "np.float64(18.331984456866678)"
      ]
     },
     "execution_count": 17,
     "metadata": {},
     "output_type": "execute_result"
    }
   ],
   "source": [
    "t_stat = (beta_1_estim-0)/np.sqrt(var_beta_1_estim)\n",
    "t_stat"
   ]
  },
  {
   "cell_type": "code",
   "execution_count": 18,
   "metadata": {},
   "outputs": [],
   "source": [
    "from scipy.stats import t"
   ]
  },
  {
   "cell_type": "code",
   "execution_count": 19,
   "metadata": {},
   "outputs": [],
   "source": [
    "degre_freedom = n-(p+1)\n",
    "\n",
    "p_value = (1-t.cdf(t_stat, degre_freedom))*2"
   ]
  },
  {
   "cell_type": "code",
   "execution_count": 20,
   "metadata": {},
   "outputs": [
    {
     "name": "stdout",
     "output_type": "stream",
     "text": [
      "t-stat of slope:  18.331984456866678 \n",
      "its p-value:  1.1363709973011282e-10\n"
     ]
    }
   ],
   "source": [
    "print(\"t-stat of slope: \", t_stat,\n",
    "      \"\\nits p-value: \", p_value)"
   ]
  },
  {
   "cell_type": "markdown",
   "metadata": {},
   "source": [
    "## Necessary investment - Confidence & Prediction interval"
   ]
  },
  {
   "cell_type": "code",
   "execution_count": 21,
   "metadata": {},
   "outputs": [
    {
     "name": "stdout",
     "output_type": "stream",
     "text": [
      "For the GNP value 1000, \n",
      "the necessary Investment is:  155.97942793105494\n"
     ]
    }
   ],
   "source": [
    "x_est = 1000\n",
    "y_est = np.exp(beta_0_estim + beta_1_estim*np.log(x_est))\n",
    "\n",
    "print(\"For the GNP value 1000, \\nthe necessary Investment is: \", y_est)"
   ]
  },
  {
   "cell_type": "code",
   "execution_count": 22,
   "metadata": {},
   "outputs": [
    {
     "name": "stdout",
     "output_type": "stream",
     "text": [
      "Confidence interval: [ 146.67552673421957 165.87349286827578 ]\n",
      "Prediction interval: [ 132.0023893341294 184.31167845087418 ]\n"
     ]
    }
   ],
   "source": [
    "alpha = 1-0.9\n",
    "print(\"Confidence interval: [\",\n",
    "      y_est/np.exp(t.ppf(1-alpha/2, n-2)\n",
    "                   * omega_estim*np.sqrt(1/n+(np.log(x_est)-x.mean())**2/sum((x-x.mean())**2))),\n",
    "      y_est*np.exp(t.ppf(1-alpha/2, n-2)*omega_estim*np.sqrt(1 /\n",
    "                                                             n+(np.log(x_est)-x.mean())**2/sum((x-x.mean())**2))),\n",
    "      \"]\"\n",
    "      )\n",
    "print(\"Prediction interval: [\",\n",
    "      y_est/np.exp(t.ppf(1-alpha/2, n-2)*omega_estim*np.sqrt(1 +\n",
    "                                                             1/n+(np.log(x_est)-x.mean())**2/sum((x-x.mean())**2))),\n",
    "      y_est*np.exp(t.ppf(1-alpha/2, n-2)*omega_estim*np.sqrt(1 +\n",
    "                                                             1/n+(np.log(x_est)-x.mean())**2/sum((x-x.mean())**2))),\n",
    "      \"]\")"
   ]
  },
  {
   "cell_type": "markdown",
   "metadata": {},
   "source": [
    "## Plot"
   ]
  },
  {
   "cell_type": "code",
   "execution_count": 23,
   "metadata": {},
   "outputs": [
    {
     "name": "stdout",
     "output_type": "stream",
     "text": [
      "97.35554574995622 97.35566939240823\n"
     ]
    }
   ],
   "source": [
    "def ci(x_est):\n",
    "    return t.ppf(1-alpha/2, n-2)*omega_estim*np.sqrt(1/n+((x_est)-x.mean())**2/sum((x-x.mean())**2))\n",
    "\n",
    "\n",
    "def pi(x_est):\n",
    "    return t.ppf(1-alpha/2, n-2)*omega_estim*np.sqrt(1+1/n+((x_est)-x.mean())**2/sum((x-x.mean())**2))\n",
    "\n",
    "\n",
    "print(ci(x_est), pi(x_est))"
   ]
  },
  {
   "cell_type": "code",
   "execution_count": 24,
   "metadata": {},
   "outputs": [
    {
     "data": {
      "image/png": "[encoded data removed]",
      "text/plain": [
       "<Figure size 640x480 with 1 Axes>"
      ]
     },
     "metadata": {},
     "output_type": "display_data"
    }
   ],
   "source": [
    "def f(x):\n",
    "    return beta_0_estim+beta_1_estim*x\n",
    "\n",
    "\n",
    "plt.plot(df['gnp_log'], df['invest_log'], 'ro',\n",
    "         df['gnp_log'], f(df['gnp_log']), 'k')\n",
    "\n",
    "plt.fill_between(df['gnp_log'], f(df['gnp_log'])-ci(df['gnp_log']),\n",
    "                 f(df['gnp_log'])+ci(df['gnp_log']), color='green', alpha=0.5)\n",
    "\n",
    "plt.fill_between(df['gnp_log'], f(df['gnp_log'])-pi(df['gnp_log']),\n",
    "                 f(df['gnp_log'])+pi(df['gnp_log']), color='yellow', alpha=0.5)\n",
    "\n",
    "\n",
    "plt.xlabel('gnp_log')\n",
    "plt.ylabel('invest_log')\n",
    "plt.show()"
   ]
  },
  {
   "cell_type": "markdown",
   "metadata": {},
   "source": [
    "## Estimate the intercept, the slope, and the determination coefficient and predict the necessary Investment\n"
   ]
  },
  {
   "cell_type": "code",
   "execution_count": 25,
   "metadata": {},
   "outputs": [],
   "source": [
    "from sklearn.linear_model import LinearRegression"
   ]
  },
  {
   "cell_type": "code",
   "execution_count": 26,
   "metadata": {},
   "outputs": [],
   "source": [
    "reg = LinearRegression().fit(x.values.reshape(-1, 1), y)"
   ]
  },
  {
   "cell_type": "code",
   "execution_count": 27,
   "metadata": {},
   "outputs": [
    {
     "name": "stdout",
     "output_type": "stream",
     "text": [
      "beta_1:  1.0152814015988711 \n",
      "beta_0:  -1.9635913352301833 \n",
      "Determination coefficient:  0.9812019647380378 \n",
      "Investment predicted:  155.97942793105494\n"
     ]
    }
   ],
   "source": [
    "print(\"beta_1: \", reg.coef_[0],\n",
    "      \"\\nbeta_0: \", reg.intercept_,\n",
    "      \"\\nDetermination coefficient: \", np.sqrt(\n",
    "          reg.score(x.values.reshape(-1, 1), y)),\n",
    "      \"\\nInvestment predicted: \", np.exp(reg.predict(np.array([[np.log(1000)]])))[0])"
   ]
  },
  {
   "cell_type": "markdown",
   "metadata": {},
   "source": [
    "## Plot"
   ]
  },
  {
   "cell_type": "code",
   "execution_count": 28,
   "metadata": {},
   "outputs": [
    {
     "data": {
      "image/png": "[encoded data removed]",
      "text/plain": [
       "<Figure size 640x480 with 1 Axes>"
      ]
     },
     "metadata": {},
     "output_type": "display_data"
    }
   ],
   "source": [
    "def f_new(x):\n",
    "    return reg.coef_[0]*x+reg.intercept_\n",
    "\n",
    "\n",
    "plt.plot(df['gnp_log'], df['invest_log'], 'ro',\n",
    "         df['gnp_log'], f_new(df['gnp_log']), 'k')\n",
    "\n",
    "plt.plot([np.log(1000)], [reg.predict(np.array([[np.log(1000)]]))], 'bo')\n",
    "\n",
    "plt.xlabel('gnp_log')\n",
    "plt.ylabel('invest_log')\n",
    "plt.show()"
   ]
  },
  {
   "cell_type": "markdown",
   "metadata": {},
   "source": [
    "## Associated Gram matrix"
   ]
  },
  {
   "cell_type": "code",
   "execution_count": 29,
   "metadata": {},
   "outputs": [],
   "source": [
    "p = 2"
   ]
  },
  {
   "cell_type": "code",
   "execution_count": 30,
   "metadata": {},
   "outputs": [
    {
     "data": {
      "text/html": [
       "<div>\n",
       "<style scoped>\n",
       "    .dataframe tbody tr th:only-of-type {\n",
       "        vertical-align: middle;\n",
       "    }\n",
       "\n",
       "    .dataframe tbody tr th {\n",
       "        vertical-align: top;\n",
       "    }\n",
       "\n",
       "    .dataframe thead th {\n",
       "        text-align: right;\n",
       "    }\n",
       "</style>\n",
       "<table border=\"1\" class=\"dataframe\">\n",
       "  <thead>\n",
       "    <tr style=\"text-align: right;\">\n",
       "      <th></th>\n",
       "      <th>year</th>\n",
       "      <th>gnp</th>\n",
       "      <th>invest</th>\n",
       "      <th>cpi</th>\n",
       "      <th>interest</th>\n",
       "      <th>gnp_log</th>\n",
       "      <th>invest_log</th>\n",
       "    </tr>\n",
       "  </thead>\n",
       "  <tbody>\n",
       "    <tr>\n",
       "      <th>0</th>\n",
       "      <td>1968</td>\n",
       "      <td>873.4</td>\n",
       "      <td>133.3</td>\n",
       "      <td>82.54</td>\n",
       "      <td>5.16</td>\n",
       "      <td>6.772394</td>\n",
       "      <td>4.892602</td>\n",
       "    </tr>\n",
       "    <tr>\n",
       "      <th>1</th>\n",
       "      <td>1969</td>\n",
       "      <td>944.0</td>\n",
       "      <td>149.3</td>\n",
       "      <td>86.79</td>\n",
       "      <td>5.87</td>\n",
       "      <td>6.850126</td>\n",
       "      <td>5.005958</td>\n",
       "    </tr>\n",
       "    <tr>\n",
       "      <th>2</th>\n",
       "      <td>1970</td>\n",
       "      <td>992.7</td>\n",
       "      <td>144.2</td>\n",
       "      <td>91.45</td>\n",
       "      <td>5.95</td>\n",
       "      <td>6.900429</td>\n",
       "      <td>4.971201</td>\n",
       "    </tr>\n",
       "    <tr>\n",
       "      <th>3</th>\n",
       "      <td>1971</td>\n",
       "      <td>1077.6</td>\n",
       "      <td>166.4</td>\n",
       "      <td>96.01</td>\n",
       "      <td>4.88</td>\n",
       "      <td>6.982492</td>\n",
       "      <td>5.114395</td>\n",
       "    </tr>\n",
       "    <tr>\n",
       "      <th>4</th>\n",
       "      <td>1972</td>\n",
       "      <td>1185.9</td>\n",
       "      <td>195.0</td>\n",
       "      <td>100.00</td>\n",
       "      <td>4.50</td>\n",
       "      <td>7.078257</td>\n",
       "      <td>5.273000</td>\n",
       "    </tr>\n",
       "    <tr>\n",
       "      <th>5</th>\n",
       "      <td>1973</td>\n",
       "      <td>1326.4</td>\n",
       "      <td>229.8</td>\n",
       "      <td>105.75</td>\n",
       "      <td>6.44</td>\n",
       "      <td>7.190224</td>\n",
       "      <td>5.437209</td>\n",
       "    </tr>\n",
       "    <tr>\n",
       "      <th>6</th>\n",
       "      <td>1974</td>\n",
       "      <td>1434.2</td>\n",
       "      <td>228.7</td>\n",
       "      <td>115.08</td>\n",
       "      <td>7.83</td>\n",
       "      <td>7.268362</td>\n",
       "      <td>5.432411</td>\n",
       "    </tr>\n",
       "    <tr>\n",
       "      <th>7</th>\n",
       "      <td>1975</td>\n",
       "      <td>1549.2</td>\n",
       "      <td>206.1</td>\n",
       "      <td>125.79</td>\n",
       "      <td>6.25</td>\n",
       "      <td>7.345494</td>\n",
       "      <td>5.328361</td>\n",
       "    </tr>\n",
       "    <tr>\n",
       "      <th>8</th>\n",
       "      <td>1976</td>\n",
       "      <td>1718.0</td>\n",
       "      <td>257.9</td>\n",
       "      <td>132.34</td>\n",
       "      <td>5.50</td>\n",
       "      <td>7.448916</td>\n",
       "      <td>5.552572</td>\n",
       "    </tr>\n",
       "    <tr>\n",
       "      <th>9</th>\n",
       "      <td>1977</td>\n",
       "      <td>1918.3</td>\n",
       "      <td>324.1</td>\n",
       "      <td>140.05</td>\n",
       "      <td>5.46</td>\n",
       "      <td>7.559195</td>\n",
       "      <td>5.781052</td>\n",
       "    </tr>\n",
       "    <tr>\n",
       "      <th>10</th>\n",
       "      <td>1978</td>\n",
       "      <td>2163.9</td>\n",
       "      <td>386.6</td>\n",
       "      <td>150.42</td>\n",
       "      <td>7.46</td>\n",
       "      <td>7.679667</td>\n",
       "      <td>5.957391</td>\n",
       "    </tr>\n",
       "    <tr>\n",
       "      <th>11</th>\n",
       "      <td>1979</td>\n",
       "      <td>2417.8</td>\n",
       "      <td>423.0</td>\n",
       "      <td>163.42</td>\n",
       "      <td>10.28</td>\n",
       "      <td>7.790613</td>\n",
       "      <td>6.047372</td>\n",
       "    </tr>\n",
       "    <tr>\n",
       "      <th>12</th>\n",
       "      <td>1980</td>\n",
       "      <td>2633.1</td>\n",
       "      <td>402.3</td>\n",
       "      <td>178.64</td>\n",
       "      <td>11.77</td>\n",
       "      <td>7.875917</td>\n",
       "      <td>5.997198</td>\n",
       "    </tr>\n",
       "    <tr>\n",
       "      <th>13</th>\n",
       "      <td>1981</td>\n",
       "      <td>2937.7</td>\n",
       "      <td>471.5</td>\n",
       "      <td>195.51</td>\n",
       "      <td>13.42</td>\n",
       "      <td>7.985382</td>\n",
       "      <td>6.155919</td>\n",
       "    </tr>\n",
       "    <tr>\n",
       "      <th>14</th>\n",
       "      <td>1982</td>\n",
       "      <td>3057.5</td>\n",
       "      <td>421.9</td>\n",
       "      <td>207.23</td>\n",
       "      <td>11.02</td>\n",
       "      <td>8.025353</td>\n",
       "      <td>6.044768</td>\n",
       "    </tr>\n",
       "  </tbody>\n",
       "</table>\n",
       "</div>"
      ],
      "text/plain": [
       "    year     gnp  invest     cpi  interest   gnp_log  invest_log\n",
       "0   1968   873.4   133.3   82.54      5.16  6.772394    4.892602\n",
       "1   1969   944.0   149.3   86.79      5.87  6.850126    5.005958\n",
       "2   1970   992.7   144.2   91.45      5.95  6.900429    4.971201\n",
       "3   1971  1077.6   166.4   96.01      4.88  6.982492    5.114395\n",
       "4   1972  1185.9   195.0  100.00      4.50  7.078257    5.273000\n",
       "5   1973  1326.4   229.8  105.75      6.44  7.190224    5.437209\n",
       "6   1974  1434.2   228.7  115.08      7.83  7.268362    5.432411\n",
       "7   1975  1549.2   206.1  125.79      6.25  7.345494    5.328361\n",
       "8   1976  1718.0   257.9  132.34      5.50  7.448916    5.552572\n",
       "9   1977  1918.3   324.1  140.05      5.46  7.559195    5.781052\n",
       "10  1978  2163.9   386.6  150.42      7.46  7.679667    5.957391\n",
       "11  1979  2417.8   423.0  163.42     10.28  7.790613    6.047372\n",
       "12  1980  2633.1   402.3  178.64     11.77  7.875917    5.997198\n",
       "13  1981  2937.7   471.5  195.51     13.42  7.985382    6.155919\n",
       "14  1982  3057.5   421.9  207.23     11.02  8.025353    6.044768"
      ]
     },
     "execution_count": 30,
     "metadata": {},
     "output_type": "execute_result"
    }
   ],
   "source": [
    "df"
   ]
  },
  {
   "cell_type": "code",
   "execution_count": 31,
   "metadata": {},
   "outputs": [],
   "source": [
    "X = df[['gnp_log', 'interest']]\n",
    "y = df['invest_log']"
   ]
  },
  {
   "cell_type": "code",
   "execution_count": 32,
   "metadata": {},
   "outputs": [
    {
     "name": "stderr",
     "output_type": "stream",
     "text": [
      "C:\\Users\\adnan\\AppData\\Local\\Temp\\ipykernel_15932\\1937241697.py:1: SettingWithCopyWarning: \n",
      "A value is trying to be set on a copy of a slice from a DataFrame.\n",
      "Try using .loc[row_indexer,col_indexer] = value instead\n",
      "\n",
      "See the caveats in the documentation: https://pandas.pydata.org/pandas-docs/stable/user_guide/indexing.html#returning-a-view-versus-a-copy\n",
      "  X['intercept'] = 1\n"
     ]
    }
   ],
   "source": [
    "X['intercept'] = 1"
   ]
  },
  {
   "cell_type": "code",
   "execution_count": 33,
   "metadata": {},
   "outputs": [
    {
     "data": {
      "text/html": [
       "<div>\n",
       "<style scoped>\n",
       "    .dataframe tbody tr th:only-of-type {\n",
       "        vertical-align: middle;\n",
       "    }\n",
       "\n",
       "    .dataframe tbody tr th {\n",
       "        vertical-align: top;\n",
       "    }\n",
       "\n",
       "    .dataframe thead th {\n",
       "        text-align: right;\n",
       "    }\n",
       "</style>\n",
       "<table border=\"1\" class=\"dataframe\">\n",
       "  <thead>\n",
       "    <tr style=\"text-align: right;\">\n",
       "      <th></th>\n",
       "      <th>intercept</th>\n",
       "      <th>gnp_log</th>\n",
       "      <th>interest</th>\n",
       "    </tr>\n",
       "  </thead>\n",
       "  <tbody>\n",
       "    <tr>\n",
       "      <th>0</th>\n",
       "      <td>1</td>\n",
       "      <td>6.772394</td>\n",
       "      <td>5.16</td>\n",
       "    </tr>\n",
       "    <tr>\n",
       "      <th>1</th>\n",
       "      <td>1</td>\n",
       "      <td>6.850126</td>\n",
       "      <td>5.87</td>\n",
       "    </tr>\n",
       "    <tr>\n",
       "      <th>2</th>\n",
       "      <td>1</td>\n",
       "      <td>6.900429</td>\n",
       "      <td>5.95</td>\n",
       "    </tr>\n",
       "    <tr>\n",
       "      <th>3</th>\n",
       "      <td>1</td>\n",
       "      <td>6.982492</td>\n",
       "      <td>4.88</td>\n",
       "    </tr>\n",
       "    <tr>\n",
       "      <th>4</th>\n",
       "      <td>1</td>\n",
       "      <td>7.078257</td>\n",
       "      <td>4.50</td>\n",
       "    </tr>\n",
       "    <tr>\n",
       "      <th>5</th>\n",
       "      <td>1</td>\n",
       "      <td>7.190224</td>\n",
       "      <td>6.44</td>\n",
       "    </tr>\n",
       "    <tr>\n",
       "      <th>6</th>\n",
       "      <td>1</td>\n",
       "      <td>7.268362</td>\n",
       "      <td>7.83</td>\n",
       "    </tr>\n",
       "    <tr>\n",
       "      <th>7</th>\n",
       "      <td>1</td>\n",
       "      <td>7.345494</td>\n",
       "      <td>6.25</td>\n",
       "    </tr>\n",
       "    <tr>\n",
       "      <th>8</th>\n",
       "      <td>1</td>\n",
       "      <td>7.448916</td>\n",
       "      <td>5.50</td>\n",
       "    </tr>\n",
       "    <tr>\n",
       "      <th>9</th>\n",
       "      <td>1</td>\n",
       "      <td>7.559195</td>\n",
       "      <td>5.46</td>\n",
       "    </tr>\n",
       "    <tr>\n",
       "      <th>10</th>\n",
       "      <td>1</td>\n",
       "      <td>7.679667</td>\n",
       "      <td>7.46</td>\n",
       "    </tr>\n",
       "    <tr>\n",
       "      <th>11</th>\n",
       "      <td>1</td>\n",
       "      <td>7.790613</td>\n",
       "      <td>10.28</td>\n",
       "    </tr>\n",
       "    <tr>\n",
       "      <th>12</th>\n",
       "      <td>1</td>\n",
       "      <td>7.875917</td>\n",
       "      <td>11.77</td>\n",
       "    </tr>\n",
       "    <tr>\n",
       "      <th>13</th>\n",
       "      <td>1</td>\n",
       "      <td>7.985382</td>\n",
       "      <td>13.42</td>\n",
       "    </tr>\n",
       "    <tr>\n",
       "      <th>14</th>\n",
       "      <td>1</td>\n",
       "      <td>8.025353</td>\n",
       "      <td>11.02</td>\n",
       "    </tr>\n",
       "  </tbody>\n",
       "</table>\n",
       "</div>"
      ],
      "text/plain": [
       "    intercept   gnp_log  interest\n",
       "0           1  6.772394      5.16\n",
       "1           1  6.850126      5.87\n",
       "2           1  6.900429      5.95\n",
       "3           1  6.982492      4.88\n",
       "4           1  7.078257      4.50\n",
       "5           1  7.190224      6.44\n",
       "6           1  7.268362      7.83\n",
       "7           1  7.345494      6.25\n",
       "8           1  7.448916      5.50\n",
       "9           1  7.559195      5.46\n",
       "10          1  7.679667      7.46\n",
       "11          1  7.790613     10.28\n",
       "12          1  7.875917     11.77\n",
       "13          1  7.985382     13.42\n",
       "14          1  8.025353     11.02"
      ]
     },
     "execution_count": 33,
     "metadata": {},
     "output_type": "execute_result"
    }
   ],
   "source": [
    "X = X[['intercept', 'gnp_log', 'interest']]\n",
    "X"
   ]
  },
  {
   "cell_type": "code",
   "execution_count": 34,
   "metadata": {},
   "outputs": [],
   "source": [
    "gram_mat = np.dot(X.values.transpose(), X.values)/y.size"
   ]
  },
  {
   "cell_type": "code",
   "execution_count": 35,
   "metadata": {},
   "outputs": [
    {
     "data": {
      "text/plain": [
       "array([[ 1.        ,  7.38352141,  7.45266667],\n",
       "       [ 7.38352141, 54.68323179, 55.94590287],\n",
       "       [ 7.45266667, 55.94590287, 62.92371333]])"
      ]
     },
     "execution_count": 35,
     "metadata": {},
     "output_type": "execute_result"
    }
   ],
   "source": [
    "gram_mat"
   ]
  },
  {
   "cell_type": "code",
   "execution_count": 36,
   "metadata": {},
   "outputs": [
    {
     "data": {
      "text/plain": [
       "np.int64(3)"
      ]
     },
     "execution_count": 36,
     "metadata": {},
     "output_type": "execute_result"
    }
   ],
   "source": [
    "np.linalg.matrix_rank(gram_mat)"
   ]
  },
  {
   "cell_type": "markdown",
   "metadata": {},
   "source": [
    "Yes, the associated Gram matrix is of full rank. "
   ]
  },
  {
   "cell_type": "markdown",
   "metadata": {},
   "source": [
    "## Estimate the three regression coefficients and their standard deviations, as well as the determination coefficient for the ordinary least squares"
   ]
  },
  {
   "cell_type": "code",
   "execution_count": 37,
   "metadata": {},
   "outputs": [
    {
     "data": {
      "text/plain": [
       "array([-2.18045473,  1.05124269, -0.00652888])"
      ]
     },
     "execution_count": 37,
     "metadata": {},
     "output_type": "execute_result"
    }
   ],
   "source": [
    "theta = np.linalg.inv(np.dot(X.values.transpose(), X.values)).dot(\n",
    "    X.values.transpose()).dot(y.values)\n",
    "theta"
   ]
  },
  {
   "cell_type": "code",
   "execution_count": 38,
   "metadata": {},
   "outputs": [
    {
     "data": {
      "text/plain": [
       "0.008192432955519803"
      ]
     },
     "execution_count": 38,
     "metadata": {},
     "output_type": "execute_result"
    }
   ],
   "source": [
    "sigma_carre_estim = sum((y-np.dot(X.values, theta))**2)/(n-(p+1))\n",
    "sigma_carre_estim"
   ]
  },
  {
   "cell_type": "code",
   "execution_count": 39,
   "metadata": {},
   "outputs": [
    {
     "data": {
      "text/plain": [
       "array([[ 4.38772697e-01, -6.72457405e-02,  7.82053357e-03],\n",
       "       [-6.72457405e-02,  1.04165249e-02, -1.29683702e-03],\n",
       "       [ 7.82053357e-03, -1.29683702e-03,  2.35444629e-04]])"
      ]
     },
     "execution_count": 39,
     "metadata": {},
     "output_type": "execute_result"
    }
   ],
   "source": [
    "C = sigma_carre_estim*np.linalg.inv(np.dot(X.values.transpose(), X.values))\n",
    "C"
   ]
  },
  {
   "cell_type": "code",
   "execution_count": 40,
   "metadata": {},
   "outputs": [
    {
     "data": {
      "text/plain": [
       "np.float64(0.9633108306728266)"
      ]
     },
     "execution_count": 40,
     "metadata": {},
     "output_type": "execute_result"
    }
   ],
   "source": [
    "R = np.sqrt(sum((np.dot(X.values, theta)-y.mean())**2)/sum((y-y.mean())**2))\n",
    "R**2"
   ]
  },
  {
   "cell_type": "markdown",
   "metadata": {},
   "source": [
    "## Test the significance of each coefficient using the Student-t test."
   ]
  },
  {
   "cell_type": "code",
   "execution_count": 41,
   "metadata": {},
   "outputs": [
    {
     "name": "stdout",
     "output_type": "stream",
     "text": [
      "for theta_0: \n",
      "\tsd= 0.6623991977963776  \n",
      "\tt-stat= -3.2917532707885533  \n",
      "\tp value= 0.006438367050889792 \n",
      "for theta_1: \n",
      "\tsd= 0.10206137806192449  \n",
      "\tt-stat= 10.300102852640068  \n",
      "\tp value= 2.5995168484449493e-07 \n",
      "for theta_2: \n",
      "\tsd= 0.015344205065604358  \n",
      "\tt-stat= -0.42549479612648816  \n",
      "\tp value= 0.6780071418818348\n"
     ]
    }
   ],
   "source": [
    "t_stat_0 = (theta[0]-0)/np.sqrt(C[0][0])\n",
    "t_stat_1 = (theta[1]-0)/np.sqrt(C[1][1])\n",
    "t_stat_2 = (theta[2]-0)/np.sqrt(C[2][2])\n",
    "\n",
    "degre_freedom = n-(p+1)\n",
    "p_value_0 = (t.cdf(t_stat_0, degre_freedom))*2\n",
    "p_value_1 = (1-t.cdf(t_stat_1, degre_freedom))*2\n",
    "p_value_2 = (t.cdf(t_stat_2, degre_freedom))*2\n",
    "\n",
    "print(\"for theta_0: \\n\\tsd=\", np.sqrt(C[0][0]), \" \\n\\tt-stat=\", t_stat_0, \" \\n\\tp value=\", p_value_0,\n",
    "      \"\\nfor theta_1: \\n\\tsd=\", np.sqrt(\n",
    "          C[1][1]), \" \\n\\tt-stat=\", t_stat_1, \" \\n\\tp value=\", p_value_1,\n",
    "      \"\\nfor theta_2: \\n\\tsd=\", np.sqrt(C[2][2]), \" \\n\\tt-stat=\", t_stat_2, \" \\n\\tp value=\", p_value_2,)"
   ]
  },
  {
   "cell_type": "markdown",
   "metadata": {},
   "source": [
    "p-value: $2\\min\\{\\Pr(X\\leq x|H),\\Pr(X\\geq x|H)\\}$ for double tail event."
   ]
  },
  {
   "cell_type": "markdown",
   "metadata": {},
   "source": [
    "As the result shows, p-value for \"interest\" is too large, so it's more likely that we should accept the hypothsis theta_2=0. In other words, \"interest\" doesn't have much connection with \"invest\" so we should not take it into account."
   ]
  },
  {
   "cell_type": "markdown",
   "metadata": {},
   "source": [
    "## Predict the log(Investment) and provide confident and prediction intervals at the 99:9% level"
   ]
  },
  {
   "cell_type": "code",
   "execution_count": 42,
   "metadata": {},
   "outputs": [
    {
     "name": "stdout",
     "output_type": "stream",
     "text": [
      "For the GNP value 1000 and Interest 10, \n",
      "the necessary log(Investment) is:  5.015983730482089\n"
     ]
    }
   ],
   "source": [
    "x_est = np.array([1, np.log(1000), 10])\n",
    "y_est = np.dot(x_est, theta)\n",
    "\n",
    "print(\"For the GNP value 1000 and Interest 10, \\nthe necessary log(Investment) is: \", y_est)"
   ]
  },
  {
   "cell_type": "code",
   "execution_count": 43,
   "metadata": {},
   "outputs": [
    {
     "name": "stdout",
     "output_type": "stream",
     "text": [
      "Confidence interval: [ 103.56340529562328 ,  219.5946669999909 ]\n",
      "Prediction interval: [ 87.68960327804402 ,  259.34626967313113 ]\n"
     ]
    }
   ],
   "source": [
    "alpha = 1-0.999\n",
    "print(\"Confidence interval: [\",\n",
    "      np.exp(np.dot(x_est, theta)-t.ppf(1-alpha/2, n-p-1)\n",
    "             * np.sqrt(sigma_carre_estim*np.dot(x_est.transpose(), np.linalg.inv(np.dot(X.transpose(), X))).dot(x_est))),\n",
    "      \", \",\n",
    "      np.exp(np.dot(x_est, theta)+t.ppf(1-alpha/2, n-p-1)\n",
    "             * np.sqrt(sigma_carre_estim*np.dot(x_est.transpose(), np.linalg.inv(np.dot(X.transpose(), X))).dot(x_est))),\n",
    "      \"]\"\n",
    "      )\n",
    "print(\"Prediction interval: [\",\n",
    "      np.exp(np.dot(x_est, theta)-t.ppf(1-alpha/2, n-p-1)\n",
    "             * np.sqrt(sigma_carre_estim*(1+np.dot(x_est.transpose(), np.linalg.inv(np.dot(X.transpose(), X))).dot(x_est)))),\n",
    "      \", \",\n",
    "      np.exp(np.dot(x_est, theta)+t.ppf(1-alpha/2, n-p-1)\n",
    "             * np.sqrt(sigma_carre_estim*(1+np.dot(x_est.transpose(), np.linalg.inv(np.dot(X.transpose(), X))).dot(x_est)))),\n",
    "      \"]\")"
   ]
  },
  {
   "cell_type": "code",
   "execution_count": 44,
   "metadata": {},
   "outputs": [
    {
     "name": "stdout",
     "output_type": "stream",
     "text": [
      "log(Investment): \n",
      "Confidence interval: [ 4.640184036687484 ,  5.391783424276695 ]\n",
      "Prediction interval: [ 4.473803343639669 ,  5.55816411732451 ]\n"
     ]
    }
   ],
   "source": [
    "alpha = 1-0.999\n",
    "print(\"log(Investment):\",\n",
    "      \"\\nConfidence interval: [\",\n",
    "      np.dot(x_est, theta)-t.ppf(1-alpha/2, n-p-1)\n",
    "      * np.sqrt(sigma_carre_estim*np.dot(x_est.transpose(),\n",
    "                                         np.linalg.inv(np.dot(X.transpose(), X))).dot(x_est)),\n",
    "      \", \",\n",
    "      np.dot(x_est, theta)+t.ppf(1-alpha/2, n-p-1)\n",
    "      * np.sqrt(sigma_carre_estim*np.dot(x_est.transpose(),\n",
    "                                         np.linalg.inv(np.dot(X.transpose(), X))).dot(x_est)),\n",
    "      \"]\"\n",
    "      )\n",
    "print(\"Prediction interval: [\",\n",
    "      np.dot(x_est, theta)-t.ppf(1-alpha/2, n-p-1)\n",
    "      * np.sqrt(sigma_carre_estim*(1+np.dot(x_est.transpose(),\n",
    "                                            np.linalg.inv(np.dot(X.transpose(), X))).dot(x_est))),\n",
    "      \", \",\n",
    "      np.dot(x_est, theta)+t.ppf(1-alpha/2, n-p-1)\n",
    "      * np.sqrt(sigma_carre_estim*(1+np.dot(x_est.transpose(),\n",
    "                                            np.linalg.inv(np.dot(X.transpose(), X))).dot(x_est))),\n",
    "      \"]\")"
   ]
  },
  {
   "cell_type": "markdown",
   "metadata": {},
   "source": [
    "## On a same 3D-plot with axes being log(GNP), Interest, and log(Invetment), draw data points, their predictions, regression plane and surfaces of the 99:9% confidence intervals for each pair of values of log(GNP) and Interest between their minimum and maximum."
   ]
  },
  {
   "cell_type": "code",
   "execution_count": 45,
   "metadata": {},
   "outputs": [],
   "source": [
    "from mpl_toolkits.mplot3d import Axes3D\n",
    "from matplotlib import cm\n",
    "from matplotlib.ticker import LinearLocator, FormatStrFormatter"
   ]
  },
  {
   "cell_type": "code",
   "execution_count": 46,
   "metadata": {},
   "outputs": [],
   "source": [
    "X_axe = X.iloc[:, 1]\n",
    "Y_axe = X.iloc[:, 2]\n",
    "W_axe = np.array([1]*15*15).reshape(15, 15)\n",
    "X_axe, Y_axe = np.meshgrid(X_axe, Y_axe)\n",
    "Z = X_axe.copy()\n",
    "ci = X_axe.copy()\n",
    "pi = X_axe.copy()"
   ]
  },
  {
   "cell_type": "code",
   "execution_count": 47,
   "metadata": {
    "code_folding": [],
    "scrolled": true
   },
   "outputs": [],
   "source": [
    "for i in range(n):\n",
    "    for j in range(n):\n",
    "        x_est = np.array([W_axe[i][j], X_axe[i][j], Y_axe[i][j]])\n",
    "        Z[i][j] = np.dot(x_est, theta)\n",
    "        ci[i][j] = t.ppf(1-alpha/2, n-p-1)*np.sqrt(sigma_carre_estim*np.dot(\n",
    "            x_est.transpose(), np.linalg.inv(np.dot(X.transpose(), X))).dot(x_est))\n",
    "        pi[i][j] = t.ppf(1-alpha/2, n-p-1)*np.sqrt(sigma_carre_estim*(1+np.dot(\n",
    "            x_est.transpose(), np.linalg.inv(np.dot(X.transpose(), X))).dot(x_est)))"
   ]
  },
  {
   "cell_type": "code",
   "execution_count": 54,
   "metadata": {},
   "outputs": [
    {
     "data": {
      "image/png": "[encoded data removed]",
      "text/plain": [
       "<Figure size 640x480 with 1 Axes>"
      ]
     },
     "metadata": {},
     "output_type": "display_data"
    }
   ],
   "source": [
    "fig = plt.figure()\n",
    "ax = fig.add_subplot(111, projection='3d')\n",
    "\n",
    "surf_4 = ax.plot_surface(X_axe, Y_axe, Z+pi, cmap=\"Blues\",\n",
    "                         linewidth=0, antialiased=False, alpha=0.3)\n",
    "\n",
    "surf_5 = ax.plot_surface(X_axe, Y_axe, Z-pi, cmap=\"Blues\",\n",
    "                         linewidth=0, antialiased=False, alpha=0.3)\n",
    "\n",
    "ax.scatter(X.iloc[:, 1], X.iloc[:, 2], Z.diagonal(), c='red')\n",
    "\n",
    "ax.scatter(X.iloc[:, 1], X.iloc[:, 2], y, c='blue')\n",
    "\n",
    "ax.set_xlabel('gnp_log')\n",
    "ax.set_ylabel('interest')\n",
    "ax.set_zlabel('investment_log')\n",
    "\n",
    "plt.show()"
   ]
  },
  {
   "cell_type": "markdown",
   "metadata": {},
   "source": [
    "## Estimate the regression and determination coefficients and predict the necessary log(Investment)"
   ]
  },
  {
   "cell_type": "code",
   "execution_count": 55,
   "metadata": {},
   "outputs": [],
   "source": [
    "reg = LinearRegression().fit(X[['gnp_log', 'interest']].values, y)"
   ]
  },
  {
   "cell_type": "code",
   "execution_count": 56,
   "metadata": {},
   "outputs": [
    {
     "data": {
      "text/plain": [
       "array([ 1.05124269, -0.00652888])"
      ]
     },
     "execution_count": 56,
     "metadata": {},
     "output_type": "execute_result"
    }
   ],
   "source": [
    "reg.coef_"
   ]
  },
  {
   "cell_type": "code",
   "execution_count": 57,
   "metadata": {},
   "outputs": [
    {
     "data": {
      "text/plain": [
       "np.float64(-2.180454725911403)"
      ]
     },
     "execution_count": 57,
     "metadata": {},
     "output_type": "execute_result"
    }
   ],
   "source": [
    "reg.intercept_"
   ]
  },
  {
   "cell_type": "markdown",
   "metadata": {},
   "source": [
    "So the estimated value is the same as those calculated \"by hand\"."
   ]
  }
 ],
 "metadata": {
  "kernelspec": {
   "display_name": "Python 3",
   "language": "python",
   "name": "python3"
  },
  "language_info": {
   "codemirror_mode": {
    "name": "ipython",
    "version": 3
   },
   "file_extension": ".py",
   "mimetype": "text/x-python",
   "name": "python",
   "nbconvert_exporter": "python",
   "pygments_lexer": "ipython3",
   "version": "3.11.5"
  }
 },
 "nbformat": 4,
 "nbformat_minor": 2
}
